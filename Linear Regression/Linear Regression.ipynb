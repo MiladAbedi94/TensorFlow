{
 "cells": [
  {
   "cell_type": "markdown",
   "metadata": {},
   "source": [
    "# Linear Regression via Tensorflow\n",
    "1- Create a data-set\n",
    "\n",
    "Lets assume that relationship between the variable $Y$ and $X_1,...,X_5$ can be modelled as follows:\n",
    "\n",
    "$Y=a_1.X_1+a_2.X_2+a_3.X_3+a_4.X_4+a_5.X_5+a_6$\n",
    "\n",
    "We would like to determine the model parameters $a_1,...,a_6$ using TensorFlow.\n",
    "In this example we will generate date by assuming the certain values for model parameters, randomly generating an input set, and then adding noise to the output. If executed successfully, our analysis should be able to estimate the original model parameters."
   ]
  },
  {
   "cell_type": "code",
   "execution_count": 12,
   "metadata": {},
   "outputs": [],
   "source": [
    "import tensorflow as tf\n",
    "import numpy as np\n",
    "N=3000 #number of data points\n",
    "F=5    #number of features\n",
    "X=np.random.uniform(-1,1,[N,F])\n",
    "Real_Weights=np.random.uniform(-100,100,6)/10\n",
    "Y=np.dot(X,Real_Weights[:F])+Real_Weights[F]+np.random.normal(0,3,size=N)\n",
    "Y=Y.reshape(N,1)"
   ]
  },
  {
   "cell_type": "markdown",
   "metadata": {},
   "source": [
    "Now we will build a TensorFlow linear model, in the form of a python function that takes input $X_1, ...X_5$ for n data points and produces output vector $Y$. The weights of the model are unknown at this point, and they will be defined as variables."
   ]
  },
  {
   "cell_type": "code",
   "execution_count": 13,
   "metadata": {},
   "outputs": [],
   "source": [
    "def Linear_Regression_Model(X):\n",
    "    global Weight_Vector\n",
    "    Weight_Vector=tf.Variable(np.random.normal(size=[6,1]),name=\"Estimated_Weights\")\n",
    "    Y_pred=tf.matmul(X,Weight_Vector[:5,:])+Weight_Vector[5,:]\n",
    "    return Y_pred"
   ]
  },
  {
   "cell_type": "code",
   "execution_count": 14,
   "metadata": {},
   "outputs": [],
   "source": [
    "Y_pred=Linear_Regression_Model(X)\n",
    "Loss_Function=tf.reduce_mean(tf.square(Y-Y_pred))\n",
    "Optimizer=tf.train.AdamOptimizer()\n",
    "Task=Optimizer.minimize(Loss_Function)\n"
   ]
  },
  {
   "cell_type": "code",
   "execution_count": 15,
   "metadata": {},
   "outputs": [],
   "source": [
    "with tf.Session() as session:\n",
    "    session.run(tf.global_variables_initializer())\n",
    "    for _ in range(10000):\n",
    "        session.run(Task)\n",
    "    Weights=Weight_Vector.eval()"
   ]
  },
  {
   "cell_type": "code",
   "execution_count": null,
   "metadata": {},
   "outputs": [],
   "source": []
  },
  {
   "cell_type": "code",
   "execution_count": null,
   "metadata": {},
   "outputs": [],
   "source": []
  },
  {
   "cell_type": "code",
   "execution_count": null,
   "metadata": {},
   "outputs": [],
   "source": []
  },
  {
   "cell_type": "code",
   "execution_count": null,
   "metadata": {},
   "outputs": [],
   "source": []
  },
  {
   "cell_type": "code",
   "execution_count": null,
   "metadata": {},
   "outputs": [],
   "source": []
  },
  {
   "cell_type": "code",
   "execution_count": null,
   "metadata": {},
   "outputs": [],
   "source": []
  },
  {
   "cell_type": "code",
   "execution_count": null,
   "metadata": {},
   "outputs": [],
   "source": []
  },
  {
   "cell_type": "code",
   "execution_count": null,
   "metadata": {},
   "outputs": [],
   "source": []
  },
  {
   "cell_type": "code",
   "execution_count": null,
   "metadata": {},
   "outputs": [],
   "source": []
  },
  {
   "cell_type": "code",
   "execution_count": null,
   "metadata": {},
   "outputs": [],
   "source": []
  },
  {
   "cell_type": "code",
   "execution_count": null,
   "metadata": {},
   "outputs": [],
   "source": []
  },
  {
   "cell_type": "code",
   "execution_count": null,
   "metadata": {},
   "outputs": [],
   "source": []
  },
  {
   "cell_type": "code",
   "execution_count": null,
   "metadata": {},
   "outputs": [],
   "source": []
  },
  {
   "cell_type": "code",
   "execution_count": null,
   "metadata": {},
   "outputs": [],
   "source": []
  },
  {
   "cell_type": "code",
   "execution_count": null,
   "metadata": {},
   "outputs": [],
   "source": []
  },
  {
   "cell_type": "code",
   "execution_count": null,
   "metadata": {},
   "outputs": [],
   "source": []
  },
  {
   "cell_type": "code",
   "execution_count": null,
   "metadata": {},
   "outputs": [],
   "source": []
  },
  {
   "cell_type": "code",
   "execution_count": null,
   "metadata": {},
   "outputs": [],
   "source": []
  },
  {
   "cell_type": "code",
   "execution_count": null,
   "metadata": {},
   "outputs": [],
   "source": []
  },
  {
   "cell_type": "code",
   "execution_count": null,
   "metadata": {},
   "outputs": [],
   "source": []
  }
 ],
 "metadata": {
  "kernelspec": {
   "display_name": "Python 3",
   "language": "python",
   "name": "python3"
  },
  "language_info": {
   "codemirror_mode": {
    "name": "ipython",
    "version": 3
   },
   "file_extension": ".py",
   "mimetype": "text/x-python",
   "name": "python",
   "nbconvert_exporter": "python",
   "pygments_lexer": "ipython3",
   "version": "3.7.3"
  }
 },
 "nbformat": 4,
 "nbformat_minor": 2
}
