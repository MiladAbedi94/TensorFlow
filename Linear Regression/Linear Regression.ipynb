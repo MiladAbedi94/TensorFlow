{
 "cells": [
  {
   "cell_type": "markdown",
   "metadata": {},
   "source": [
    "# Linear Regression via Tensorflow\n",
    "1- Create a data-set\n",
    "\n",
    "Lets assume that relationship between the variable $Y$ and $X_1,...,X_5$ can be modelled as follows:\n",
    "\n",
    "$Y=a_1.X_1+a_2.X_2+a_3.X_3+a_4.X_4+a_5.X_5+a_6$\n",
    "\n",
    "We would like to determine the model parameters $a_1,...,a_6$ using TensorFlow.\n",
    "In this example we will generate date by assuming the certain values for model parameters, randomly generating an input set, and then adding noise to the output. If executed successfully, our analysis should be able to estimate the original model parameters."
   ]
  },
  {
   "cell_type": "code",
   "execution_count": 1,
   "metadata": {},
   "outputs": [],
   "source": [
    "import tensorflow as tf\n",
    "import numpy as np\n",
    "N=3000  #number of data points\n",
    "F=5     #number of features\n",
    "X_Real=np.random.uniform(-100,100,[N,F]) #input features measured in real world\n",
    "Weights_Real=np.random.uniform(-100,100,6)/10 #weights of the linear model describing the underlying real-world relationship between X and Y\n",
    "Y_Real=np.dot(X_Real,Weights_Real[:F])+Weights_Real[F]+np.random.normal(0,3,size=N)\n",
    "Y_Real=Y_Real.reshape(N,1)"
   ]
  },
  {
   "cell_type": "markdown",
   "metadata": {},
   "source": [
    "Now we will build a TensorFlow linear model, in the form of a python function that takes input $X_1, ...X_5$ for n data points and produces output vector $Y$. The weights of the model are unknown at this point, and they will be defined as variables."
   ]
  },
  {
   "cell_type": "code",
   "execution_count": 2,
   "metadata": {},
   "outputs": [],
   "source": [
    "def Linear_Regression_Model(X):\n",
    "    global Weights_Estimated\n",
    "    Weights_Estimated=tf.Variable(np.random.normal(size=[6,1]),name=\"Estimated_Weights\")\n",
    "    Y=tf.add(tf.matmul(X,Weights_Estimated[:5,:]),Weights_Estimated[5,:])\n",
    "    return Y"
   ]
  },
  {
   "cell_type": "code",
   "execution_count": 3,
   "metadata": {},
   "outputs": [
    {
     "name": "stdout",
     "output_type": "stream",
     "text": [
      "WARNING:tensorflow:From /Users/milad/miniconda3/lib/python3.6/site-packages/tensorflow/python/framework/op_def_library.py:263: colocate_with (from tensorflow.python.framework.ops) is deprecated and will be removed in a future version.\n",
      "Instructions for updating:\n",
      "Colocations handled automatically by placer.\n"
     ]
    }
   ],
   "source": [
    "X=tf.placeholder(tf.float64,[None,F],name=\"Model_Input\")\n",
    "Y=tf.placeholder(tf.float64,[None,1],name=\"Train_Target_Values\")\n",
    "Y_Pred=Linear_Regression_Model(X)\n",
    "Loss_Function=tf.reduce_mean(tf.square(tf.subtract(Y_Pred,Y_Real)))\n",
    "Optimizer=tf.train.AdamOptimizer()\n",
    "Task=Optimizer.minimize(Loss_Function)\n"
   ]
  },
  {
   "cell_type": "code",
   "execution_count": 4,
   "metadata": {},
   "outputs": [],
   "source": [
    "with tf.Session() as session:\n",
    "    session.run(tf.global_variables_initializer())\n",
    "    for _ in range(10000):\n",
    "        session.run(Task,feed_dict={X:X_Real,Y:Y_Real})\n",
    "    Weights=Weights_Estimated.eval().reshape(-1)"
   ]
  },
  {
   "cell_type": "code",
   "execution_count": 17,
   "metadata": {},
   "outputs": [
    {
     "data": {
      "image/png": "[encoded data removed]",
      "text/plain": [
       "<Figure size 432x288 with 1 Axes>"
      ]
     },
     "metadata": {
      "needs_background": "light"
     },
     "output_type": "display_data"
    }
   ],
   "source": [
    "import matplotlib.pyplot as plt\n",
    "X_Ticks=[\"W\"+str(i+1) for i in range(F+1)]\n",
    "X_ax_values=np.arange(F+1)\n",
    "X_Label=\"Model Weights\"\n",
    "bar_width=0.3\n",
    "plt.bar(x=X_ax_values,height=Weights,width=bar_width,tick_label=X_Ticks,label=\"Estiamted Model Weights\",alpha=0.85)\n",
    "plt.bar(x=X_ax_values+bar_width,height=Weights_Real,width=bar_width,tick_label=X_Ticks,label=\"Actual Weights\",alpha=0.85)\n",
    "plt.legend()\n",
    "plt.show()"
   ]
  }
 ],
 "metadata": {
  "kernelspec": {
   "display_name": "Python 3",
   "language": "python",
   "name": "python3"
  },
  "language_info": {
   "codemirror_mode": {
    "name": "ipython",
    "version": 3
   },
   "file_extension": ".py",
   "mimetype": "text/x-python",
   "name": "python",
   "nbconvert_exporter": "python",
   "pygments_lexer": "ipython3",
   "version": "3.6.8"
  }
 },
 "nbformat": 4,
 "nbformat_minor": 2
}
