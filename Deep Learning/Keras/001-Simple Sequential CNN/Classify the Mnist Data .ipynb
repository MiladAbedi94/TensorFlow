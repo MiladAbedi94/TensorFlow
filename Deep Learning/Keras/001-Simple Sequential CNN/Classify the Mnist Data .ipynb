{
 "cells": [
  {
   "cell_type": "code",
   "execution_count": 3,
   "metadata": {},
   "outputs": [],
   "source": [
    "from tensorflow.keras.datasets import mnist\n",
    "import numpy as np\n",
    "import matplotlib.pyplot as plt\n",
    "import pandas as pd\n",
    "import seaborn as sns\n",
    "(Train_Imgs, Train_Labels), (Test_Imgs, Test_Labels) = mnist.load_data()\n",
    "Train_Imgs=Train_Imgs/255\n",
    "Test_Imgs=Test_Imgs/255"
   ]
  },
  {
   "cell_type": "code",
   "execution_count": 4,
   "metadata": {},
   "outputs": [
    {
     "name": "stdout",
     "output_type": "stream",
     "text": [
      "The train data set contains 60000 images with the size of 28 * 28.\n",
      "The test data set contains 10000 images with the size of 28 * 28.\n",
      "Here are some sample data point:\n",
      "\n"
     ]
    },
    {
     "data": {
      "image/png": "[encoded data removed]",
      "text/plain": [
       "<Figure size 1080x432 with 10 Axes>"
      ]
     },
     "metadata": {
      "needs_background": "light"
     },
     "output_type": "display_data"
    }
   ],
   "source": [
    "print(\"The train data set contains {} images with the size of {} * {}.\".format(*Train_Imgs.shape))\n",
    "print(\"The test data set contains {} images with the size of {} * {}.\".format(*Test_Imgs.shape))\n",
    "print(\"Here are some sample data point:\\n\")\n",
    "f, axes = plt.subplots(2, 5, figsize=(15, 6))\n",
    "Sample_Indexes=[np.where(Train_Labels==i)[0][0] for i in range(10)]\n",
    "for i in range(2):\n",
    "    for j in range(5):\n",
    "        axes[i,j].imshow(Train_Imgs[Sample_Indexes[i*5+j]])\n",
    "        axes[i,j].grid(False)\n",
    "        axes[i,j].set(xlabel=\"Label={}\".format(i*5+j))\n",
    "        axes[i,j].set_yticklabels([])\n",
    "        axes[i,j].set_xticklabels([])\n",
    "        axes[i,j].tick_params(axis='both', which='both', bottom=False, top=False, labelbottom=False, left=False)"
   ]
  },
  {
   "cell_type": "code",
   "execution_count": 5,
   "metadata": {},
   "outputs": [
    {
     "name": "stdout",
     "output_type": "stream",
     "text": [
      "The distribution of the labels both for the train data set, and for the test data set is uniform.\n",
      "\n",
      "The data set does not suffer from class imbalance, or shift in distribution from train to test.\n",
      "\n"
     ]
    },
    {
     "data": {
      "image/png": "[encoded data removed]",
      "text/plain": [
       "<Figure size 1008x504 with 2 Axes>"
      ]
     },
     "metadata": {
      "needs_background": "light"
     },
     "output_type": "display_data"
    }
   ],
   "source": [
    "print(\"The distribution of the labels both for the train data set, and for the test data set is uniform.\\n\")\n",
    "print(\"The data set does not suffer from class imbalance, or shift in distribution from train to test.\\n\")\n",
    "f, axes = plt.subplots(1, 2, figsize=(14, 7), sharex=True)\n",
    "sns.set(font_scale=2.5)\n",
    "sns.distplot(Train_Labels,kde=False,bins=np.array(range(11))-0.5,ax=axes[0],color=\"green\");\n",
    "sns.distplot(Test_Labels,kde=False,bins=np.array(range(11))-0.5,ax=axes[1],color='red');\n",
    "axes[0].set(xlabel=\"Label (Train Data)\",ylabel=\"Frequency\");\n",
    "axes[1].set(xlabel=\"Label (Test Data)\",ylabel=\"Frequency\");\n"
   ]
  },
  {
   "cell_type": "code",
   "execution_count": 6,
   "metadata": {},
   "outputs": [
    {
     "name": "stdout",
     "output_type": "stream",
     "text": [
      "WARNING:tensorflow:From C:\\Users\\MiladAbedi\\Anaconda3\\lib\\site-packages\\tensorflow\\python\\ops\\resource_variable_ops.py:435: colocate_with (from tensorflow.python.framework.ops) is deprecated and will be removed in a future version.\n",
      "Instructions for updating:\n",
      "Colocations handled automatically by placer.\n",
      "_________________________________________________________________\n",
      "Layer (type)                 Output Shape              Param #   \n",
      "=================================================================\n",
      "First_Conv (Conv2D)          (None, 24, 24, 128)       3328      \n",
      "_________________________________________________________________\n",
      "First_Maxpool (MaxPooling2D) (None, 12, 12, 128)       0         \n",
      "_________________________________________________________________\n",
      "Second_Conv (Conv2D)         (None, 8, 8, 64)          204864    \n",
      "_________________________________________________________________\n",
      "Second_Maxpool (MaxPooling2D (None, 4, 4, 64)          0         \n",
      "_________________________________________________________________\n",
      "Third_Conv (Conv2D)          (None, 2, 2, 32)          18464     \n",
      "_________________________________________________________________\n",
      "Third_Maxpool (MaxPooling2D) (None, 1, 1, 32)          0         \n",
      "_________________________________________________________________\n",
      "Flattener (Flatten)          (None, 32)                0         \n",
      "_________________________________________________________________\n",
      "Fist_Dense (Dense)           (None, 10)                330       \n",
      "=================================================================\n",
      "Total params: 226,986\n",
      "Trainable params: 226,986\n",
      "Non-trainable params: 0\n",
      "_________________________________________________________________\n"
     ]
    }
   ],
   "source": [
    "from tensorflow.keras import models,layers,utils\n",
    "Model=models.Sequential()\n",
    "Model.add(layers.Conv2D(filters=128,kernel_size=(5,5),input_shape=(28,28,1),activation='relu',strides=1,name=\"First_Conv\"))\n",
    "Model.add(layers.MaxPooling2D((2,2),name=\"First_Maxpool\"))\n",
    "Model.add(layers.Conv2D(filters=64,kernel_size=(5,5),activation='relu',strides=1,name=\"Second_Conv\"))\n",
    "Model.add(layers.MaxPooling2D((2,2),name=\"Second_Maxpool\"))\n",
    "Model.add(layers.Conv2D(filters=32,kernel_size=(3,3),activation='relu',strides=1,name=\"Third_Conv\"))\n",
    "Model.add(layers.MaxPooling2D((2,2),name=\"Third_Maxpool\"))\n",
    "Model.add(layers.Flatten(name=\"Flattener\"))\n",
    "Model.add(layers.Dense(units=10,activation='softmax',name=\"Fist_Dense\"))\n",
    "Model.summary()"
   ]
  },
  {
   "cell_type": "code",
   "execution_count": 7,
   "metadata": {},
   "outputs": [],
   "source": [
    "Train_Imgs = Train_Imgs.reshape((-1, 28, 28, 1))\n",
    "Test_Imgs=Test_Imgs.reshape((-1,28,28,1))\n",
    "Train_Labels = utils.to_categorical(Train_Labels)\n",
    "Test_Labels = utils.to_categorical(Test_Labels)"
   ]
  },
  {
   "cell_type": "code",
   "execution_count": 10,
   "metadata": {},
   "outputs": [
    {
     "name": "stdout",
     "output_type": "stream",
     "text": [
      "5120/5120 [==============================] - 18s 4ms/sample - loss: 1.1719 - acc: 0.7064\n",
      "18.896835803985596\n"
     ]
    }
   ],
   "source": [
    "import time\n",
    "t0=time.time()\n",
    "Model.compile(optimizer='rmsprop',\n",
    "              loss='categorical_crossentropy',\n",
    "              metrics=['accuracy'])\n",
    "Model.fit(Train_Imgs[:1024*5], Train_Labels[:1024*5], epochs=1, batch_size=1024)\n",
    "print(time.time()-t0)"
   ]
  },
  {
   "cell_type": "code",
   "execution_count": null,
   "metadata": {},
   "outputs": [],
   "source": [
    "Model.evaluate()"
   ]
  }
 ],
 "metadata": {
  "kernelspec": {
   "display_name": "Python 3",
   "language": "python",
   "name": "python3"
  },
  "language_info": {
   "codemirror_mode": {
    "name": "ipython",
    "version": 3
   },
   "file_extension": ".py",
   "mimetype": "text/x-python",
   "name": "python",
   "nbconvert_exporter": "python",
   "pygments_lexer": "ipython3",
   "version": "3.6.8"
  }
 },
 "nbformat": 4,
 "nbformat_minor": 2
}
